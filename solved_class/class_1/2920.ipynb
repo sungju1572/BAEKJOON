{
 "cells": [
  {
   "cell_type": "code",
   "execution_count": 22,
   "metadata": {},
   "outputs": [
    {
     "name": "stdout",
     "output_type": "stream",
     "text": [
      "8 7 6 5 4 3 2 1\n",
      "descending\n"
     ]
    }
   ],
   "source": [
    "a,b,c,d,e,f,g,h = map(int, input().split())\n",
    "\n",
    "list_a = [a,b,c,d,e,f,g,h]\n",
    "list_ascend = sorted(list_a)\n",
    "list_descend = sorted(list_a, reverse=True)\n",
    "\n",
    "\n",
    "if list_a == list_ascend:\n",
    "    print(\"ascending\")\n",
    "elif list_a == list_descend:\n",
    "    print(\"descending\")\n",
    "else:\n",
    "    print(\"mixed\")\n",
    "\n"
   ]
  },
  {
   "cell_type": "code",
   "execution_count": null,
   "metadata": {},
   "outputs": [],
   "source": [
    "#정렬을 받은뒤 오름차순 정렬과 내림차순 정렬을 만들어 두개의 값과 같다면 조건에 맞는 값을 반환"
   ]
  }
 ],
 "metadata": {
  "kernelspec": {
   "display_name": "Python 3",
   "language": "python",
   "name": "python3"
  },
  "language_info": {
   "codemirror_mode": {
    "name": "ipython",
    "version": 3
   },
   "file_extension": ".py",
   "mimetype": "text/x-python",
   "name": "python",
   "nbconvert_exporter": "python",
   "pygments_lexer": "ipython3",
   "version": "3.8.5"
  }
 },
 "nbformat": 4,
 "nbformat_minor": 4
}
