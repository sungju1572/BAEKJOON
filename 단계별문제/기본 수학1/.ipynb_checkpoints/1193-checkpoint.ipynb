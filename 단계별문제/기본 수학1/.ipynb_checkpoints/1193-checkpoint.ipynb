{
 "cells": [
  {
   "cell_type": "code",
   "execution_count": 12,
   "metadata": {},
   "outputs": [
    {
     "name": "stdout",
     "output_type": "stream",
     "text": [
      "14\n",
      "2/4\n"
     ]
    }
   ],
   "source": [
    "N = int(input())\n",
    "a = 1\n",
    "sum = 0\n",
    "while True :\n",
    "    sum += a \n",
    "    if N <= sum :\n",
    "        b = sum - N\n",
    "        if a % 2 ==0:\n",
    "            print(str(a-b) + \"/\" + str(b+1))\n",
    "            break\n",
    "        else :\n",
    "            print(str(b+1) + \"/\" + str(a-b))\n",
    "            break\n",
    "    else:\n",
    "        a+=1"
   ]
  },
  {
   "cell_type": "code",
   "execution_count": null,
   "metadata": {},
   "outputs": [],
   "source": [
    "# N을 입력받은후 a(1층)부터 시작해 sum이라는 변수에 층별로 칸수를 더하기\n",
    "# sum보다 N 이 작으면 (그층에 속하면) 총 sum에서 N을 빼서 N의 정확한 위치 구하기\n",
    "# a 가 홀수이면 분모가 a부터 시작 / 짝수이면 1부터 시작"
   ]
  }
 ],
 "metadata": {
  "kernelspec": {
   "display_name": "Python 3",
   "language": "python",
   "name": "python3"
  },
  "language_info": {
   "codemirror_mode": {
    "name": "ipython",
    "version": 3
   },
   "file_extension": ".py",
   "mimetype": "text/x-python",
   "name": "python",
   "nbconvert_exporter": "python",
   "pygments_lexer": "ipython3",
   "version": "3.8.5"
  }
 },
 "nbformat": 4,
 "nbformat_minor": 4
}
