{
 "cells": [
  {
   "cell_type": "code",
   "execution_count": 69,
   "metadata": {},
   "outputs": [
    {
     "name": "stdout",
     "output_type": "stream",
     "text": [
      "1\n",
      "1 1 1\n",
      "101\n"
     ]
    }
   ],
   "source": [
    "import math\n",
    "\n",
    "T = int(input())\n",
    "\n",
    "for i in range(T):\n",
    "    H,W,N = map(int, input().split())\n",
    "    if H==1:\n",
    "        if math.ceil(N/H)<10:\n",
    "            print(\"1\"+\"0\"+str(math.ceil(N/H)))\n",
    "        else:\n",
    "            print(\"1\"+str(math.ceil(N/H)))\n",
    "    elif math.ceil(N%H) == 0:\n",
    "        if math.ceil(N/H)<10 :\n",
    "            print(str(H)+\"0\"+str(math.ceil(N/H)))\n",
    "        else :\n",
    "            print(str(H)+str(math.ceil(N/H)))\n",
    "    else:\n",
    "        if math.ceil(N/H)<10 :\n",
    "            print(str(N%H)+\"0\"+str(math.ceil(N/H)))\n",
    "        else:\n",
    "            print(str(N%H)+str(math.ceil(N/H)))"
   ]
  },
  {
   "cell_type": "code",
   "execution_count": 23,
   "metadata": {},
   "outputs": [
    {
     "data": {
      "text/plain": [
       "0"
      ]
     },
     "execution_count": 23,
     "metadata": {},
     "output_type": "execute_result"
    }
   ],
   "source": [
    "# H : 층수 W : 각층의 방수 N : 몇번째 손님\n",
    "# 풀이과정\n",
    "#손님/층수(몫은 w가 몇인지 나타냄), 손님%층수(나머지는 몇층인지 나타냄)\n",
    "#h=1일때 / 나머지가 0일때 / 그외 각각의 과정에서 w가 10미만인지 아닌지에 따라 출력방법을 달리함 "
   ]
  }
 ],
 "metadata": {
  "kernelspec": {
   "display_name": "Python 3",
   "language": "python",
   "name": "python3"
  },
  "language_info": {
   "codemirror_mode": {
    "name": "ipython",
    "version": 3
   },
   "file_extension": ".py",
   "mimetype": "text/x-python",
   "name": "python",
   "nbconvert_exporter": "python",
   "pygments_lexer": "ipython3",
   "version": "3.8.5"
  }
 },
 "nbformat": 4,
 "nbformat_minor": 4
}
