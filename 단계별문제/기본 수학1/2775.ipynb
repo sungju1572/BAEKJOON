{
 "cells": [
  {
   "cell_type": "code",
   "execution_count": 27,
   "metadata": {},
   "outputs": [
    {
     "name": "stdout",
     "output_type": "stream",
     "text": [
      "2\n",
      "1\n",
      "3\n",
      "6\n",
      "2\n",
      "3\n",
      "10\n"
     ]
    }
   ],
   "source": [
    "T = int(input())\n",
    "\n",
    "for i in range(0,T):\n",
    "    k = int(input())\n",
    "    n = int(input())\n",
    "    flo = [i for i in range(1,n+1)]\n",
    "    for z in range(0,k):\n",
    "        for j in range(1, n):\n",
    "            flo[j] +=flo[j-1]\n",
    "    print(flo[-1])        \n",
    "        "
   ]
  },
  {
   "cell_type": "code",
   "execution_count": 28,
   "metadata": {},
   "outputs": [],
   "source": [
    "#풀이법\n",
    "# k : 층수 n : 호수 T : 반복횟수\n",
    "\n",
    "#일단 1층 인원은 1,2,3,....이런식으로 증가하니 1층인원 배열을 만들고,\n",
    "#층수(k)만큼 반복될때, 호수(n)번만큼 배열의 숫자를 차례대로 더해 새로운 배열을 만들었다\n",
    "#마지막으로 배열의 마지막을 출력하면 끝!\n",
    "\n",
    "#문제에서 조건을 그대로 코드로 표현하면 간단하였다\n",
    "#“a층의 b호에 살려면 자신의 아래(a-1)층의 1호부터 b호까지 사람들의 수의 합만큼 사람들을 데려와 살아야 한다” \n"
   ]
  }
 ],
 "metadata": {
  "kernelspec": {
   "display_name": "Python 3",
   "language": "python",
   "name": "python3"
  },
  "language_info": {
   "codemirror_mode": {
    "name": "ipython",
    "version": 3
   },
   "file_extension": ".py",
   "mimetype": "text/x-python",
   "name": "python",
   "nbconvert_exporter": "python",
   "pygments_lexer": "ipython3",
   "version": "3.8.5"
  }
 },
 "nbformat": 4,
 "nbformat_minor": 4
}
