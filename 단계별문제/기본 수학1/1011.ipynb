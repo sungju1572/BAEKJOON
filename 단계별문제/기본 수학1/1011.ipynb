{
 "cells": [
  {
   "cell_type": "code",
   "execution_count": 3,
   "metadata": {},
   "outputs": [
    {
     "name": "stdout",
     "output_type": "stream",
     "text": [
      "3\n",
      "0 3\n",
      "3\n",
      "1 5\n",
      "3\n",
      "45 50\n",
      "4\n"
     ]
    }
   ],
   "source": [
    "import math\n",
    "\n",
    "T = int(input())\n",
    "\n",
    "for i in range(T):\n",
    "    x,y = map(int, input().split())\n",
    "    ran = y-x\n",
    "    count = 0\n",
    "    num = math.floor(math.sqrt(ran)) \n",
    "    num_s = num ** 2\n",
    "    \n",
    "    if ran > num_s + num:\n",
    "        count = 2 * num + 1\n",
    "    elif  ran > num_s  and ran <= num_s + num:\n",
    "        count = 2 * num\n",
    "    elif ran == num_s:\n",
    "        count = 2*num - 1\n",
    "        \n",
    "    if ran < 4:\n",
    "        count = ran\n",
    "    print(count)"
   ]
  },
  {
   "cell_type": "code",
   "execution_count": null,
   "metadata": {},
   "outputs": [],
   "source": [
    "#설명\n",
    "\n",
    "#x : 시작점, y : 도착점, ran : 거리(도착점-시작점), num : 거리의 제곱근 구해서 올림하기 num_s : num의 2승\n",
    "\n",
    "#패턴을 파악해보면 우주선이 이동하는 횟수는 거리의 제곱근이 중앙에 위치할 때 1씩늘어나고, 1씩 늘어난후 그 제곱근만큼 거리가 늘어나면 또 1증가한다\n",
    "#ex)\n",
    "\n",
    "#이동패턴           거리         이동횟수\n",
    "#   111              3             3\n",
    "#   121              4             3     (4의 제곱근 2)\n",
    "#   1211             5             4\n",
    "#   1221             6             4      (2만큼 거리 늘어남)\n",
    "#   12211            7             5     (이동횟수 증가)\n",
    "\n",
    "#따라서 조건에 맞게 각각 조건문 작성하고, 예외로 거리가 1, 2, 3 일 때는 바로 출력되게 작성하였다\n",
    "\n"
   ]
  }
 ],
 "metadata": {
  "kernelspec": {
   "display_name": "Python 3",
   "language": "python",
   "name": "python3"
  },
  "language_info": {
   "codemirror_mode": {
    "name": "ipython",
    "version": 3
   },
   "file_extension": ".py",
   "mimetype": "text/x-python",
   "name": "python",
   "nbconvert_exporter": "python",
   "pygments_lexer": "ipython3",
   "version": "3.8.5"
  }
 },
 "nbformat": 4,
 "nbformat_minor": 4
}
