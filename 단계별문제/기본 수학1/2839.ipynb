{
 "cells": [
  {
   "cell_type": "code",
   "execution_count": 19,
   "metadata": {},
   "outputs": [
    {
     "name": "stdout",
     "output_type": "stream",
     "text": [
      "9\n",
      "3\n"
     ]
    }
   ],
   "source": [
    "N = int(input())\n",
    "\n",
    "a = int(N/3)\n",
    "b = int(N/5)\n",
    "sum =[]\n",
    "sum_2 =[]\n",
    "for i in range(0,a+1):\n",
    "    for j in range(0,b+1):\n",
    "        if 3*i + 5*j == N:\n",
    "            sum.append(i+j)\n",
    "\n",
    "\n",
    "            \n",
    "if len(sum) !=0:\n",
    "        print(min(sum))\n",
    "else:\n",
    "    print(-1)\n"
   ]
  },
  {
   "cell_type": "code",
   "execution_count": null,
   "metadata": {},
   "outputs": [],
   "source": [
    "#코드설명\n",
    "# N : 입력받는 변수\n",
    "# 1. N/3 과 N/5 해서 몫만큼 for 문을 돌린다\n",
    "# 2. 만약 3의 배수한것과 5의 배수한것의 합이 입력받은 N과 동일하면 빈배열에 하나씩 추가한다\n",
    "# 3. 만약 배열의 길이가 0이 아니면(나누어떨어지는 몫이 있으면) 그중 최솟값 반환 / 없으면 -1 출력"
   ]
  }
 ],
 "metadata": {
  "kernelspec": {
   "display_name": "Python 3",
   "language": "python",
   "name": "python3"
  },
  "language_info": {
   "codemirror_mode": {
    "name": "ipython",
    "version": 3
   },
   "file_extension": ".py",
   "mimetype": "text/x-python",
   "name": "python",
   "nbconvert_exporter": "python",
   "pygments_lexer": "ipython3",
   "version": "3.8.5"
  }
 },
 "nbformat": 4,
 "nbformat_minor": 4
}
