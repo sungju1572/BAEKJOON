{
 "cells": [
  {
   "cell_type": "code",
   "execution_count": 12,
   "metadata": {},
   "outputs": [
    {
     "name": "stdout",
     "output_type": "stream",
     "text": [
      "14\n",
      "2/4\n"
     ]
    }
   ],
   "source": [
    "N = int(input())\n",
    "a = 1\n",
    "sum = 0\n",
    "while True :\n",
    "    sum += a\n",
    "    if N <= sum :\n",
    "        b = sum - N\n",
    "        if a % 2 ==0:\n",
    "            print(str(a-b) + \"/\" + str(b+1))\n",
    "            break\n",
    "        else :\n",
    "            print(str(b+1) + \"/\" + str(a-b))\n",
    "            break\n",
    "    else:\n",
    "        a+=1"
   ]
  }
 ],
 "metadata": {
  "kernelspec": {
   "display_name": "Python 3",
   "language": "python",
   "name": "python3"
  },
  "language_info": {
   "codemirror_mode": {
    "name": "ipython",
    "version": 3
   },
   "file_extension": ".py",
   "mimetype": "text/x-python",
   "name": "python",
   "nbconvert_exporter": "python",
   "pygments_lexer": "ipython3",
   "version": "3.8.5"
  }
 },
 "nbformat": 4,
 "nbformat_minor": 4
}
