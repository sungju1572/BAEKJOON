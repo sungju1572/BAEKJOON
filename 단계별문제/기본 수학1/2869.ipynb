{
 "cells": [
  {
   "cell_type": "code",
   "execution_count": 81,
   "metadata": {},
   "outputs": [
    {
     "name": "stdout",
     "output_type": "stream",
     "text": [
      "4 2 7\n",
      "3\n"
     ]
    }
   ],
   "source": [
    "##시간초과\n",
    "\n",
    "A,B,V = map(int, input().split())\n",
    "\n",
    "day = 0\n",
    "climb = 0\n",
    "while True:\n",
    "    climb += A\n",
    "    if climb >= V:\n",
    "        day+=1\n",
    "        print(day)\n",
    "        break\n",
    "    else:\n",
    "        climb -= B\n",
    "        day+=1\n"
   ]
  },
  {
   "cell_type": "code",
   "execution_count": 80,
   "metadata": {},
   "outputs": [
    {
     "name": "stdout",
     "output_type": "stream",
     "text": [
      "4 2 7\n",
      "3\n"
     ]
    }
   ],
   "source": [
    "##정답\n",
    "import math\n",
    "\n",
    "A,B,V = map(int, input().split())\n",
    "\n",
    "print(math.ceil((V-A)/(A-B)) + 1)"
   ]
  },
  {
   "cell_type": "code",
   "execution_count": 44,
   "metadata": {},
   "outputs": [
    {
     "data": {
      "text/plain": [
       "0"
      ]
     },
     "execution_count": 44,
     "metadata": {},
     "output_type": "execute_result"
    }
   ],
   "source": [
    "# A= 올라가는 길이, B= 떨어지는길이, V= 나무높이 \n",
    "# V-A : 할당량(총 올라가려는 길이) , A-B : 하루에 올라가는 정도\n",
    "# math함수를 써서 올림한후 1 더하기\n",
    "\n",
    "#시도과정\n",
    "# 1.반복문으로 해결하려다 시간초과\n",
    "# 2. math 안쓰고 나눌때 소수점 나온걸 int로 바꾸고 나머지에따라 if문 쓰려다 틀림\n",
    "# 3. math함수 써서 해결!"
   ]
  }
 ],
 "metadata": {
  "kernelspec": {
   "display_name": "Python 3",
   "language": "python",
   "name": "python3"
  },
  "language_info": {
   "codemirror_mode": {
    "name": "ipython",
    "version": 3
   },
   "file_extension": ".py",
   "mimetype": "text/x-python",
   "name": "python",
   "nbconvert_exporter": "python",
   "pygments_lexer": "ipython3",
   "version": "3.8.5"
  }
 },
 "nbformat": 4,
 "nbformat_minor": 4
}
