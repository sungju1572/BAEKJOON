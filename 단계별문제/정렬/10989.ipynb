{
 "cells": [
  {
   "cell_type": "code",
   "execution_count": 9,
   "metadata": {},
   "outputs": [
    {
     "name": "stdout",
     "output_type": "stream",
     "text": [
      "10\n",
      "5\n",
      "2\n",
      "3\n",
      "1\n",
      "4\n",
      "2\n",
      "3\n",
      "5\n",
      "1\n",
      "7\n",
      "1\n",
      "1\n",
      "2\n",
      "2\n",
      "3\n",
      "3\n",
      "4\n",
      "5\n",
      "5\n",
      "7\n"
     ]
    }
   ],
   "source": [
    "import sys\n",
    "\n",
    "n = int(sys.stdin.readline())\n",
    "\n",
    "array = []\n",
    "\n",
    "for i in range(n):\n",
    "    array.append(int(input()))\n",
    "\n",
    "    \n",
    "#counting_array 생성\n",
    "counting_array = [0]*(n+1)\n",
    "\n",
    "#array의 인덱스값을 세어서 counting_array에 저장\n",
    "for i in array:\n",
    "    counting_array[i]+=1\n",
    "\n",
    "#counting_array 누적합구해서 업데이트\n",
    "for i in range(n):\n",
    "    counting_array[i+1] += counting_array[i]\n",
    "    \n",
    "#output_array 생성\n",
    "output_array = [-1]*n\n",
    "\n",
    "\n",
    "#counting_array를 참조하여 output_array업데이트\n",
    "for i in array:\n",
    "    output_array[counting_array[i]-1] = i\n",
    "    counting_array[i]-=1\n",
    "\n",
    "\n",
    "#하나씩 출력\n",
    "for i in output_array: \n",
    "    print(i)\n"
   ]
  },
  {
   "cell_type": "code",
   "execution_count": 10,
   "metadata": {},
   "outputs": [],
   "source": [
    "import sys\n",
    "\n",
    "n = int(sys.stdin.readline())\n",
    "\n",
    "#counting_array 생성\n",
    "counting_array = [0]*(10001)\n",
    "\n",
    "for i in range(n):\n",
    "    a = int(sys.stdin.readline().strip())\n",
    "    counting_array[a]+=1\n",
    "\n",
    "\n",
    "for i in range(10001):\n",
    "    if counting_array[i] != 0:\n",
    "        for j in range(counting_array[i]):\n",
    "            print(i)"
   ]
  },
  {
   "cell_type": "markdown",
   "metadata": {},
   "source": [
    "counting array란 것을 배웠다. \n",
    "첫번째 코드는 카운팅정렬에 대한 풀이이다. 하지만 이렇게 풀었을때 메모리 초과문제가 발생하여 원인을 찾아보니 array라는 배열에 입력받은 모든수를 다저장하였기 때문에 당연히 메모리 초과가 발생하였다. 이를 방지하고자 값을 하나 입력 받을 때 마다 값을 다른 곳에 저장하지 말고 카운트를 1 늘려주는 방식으로 구현하였다\n",
    "\n",
    "\n",
    "설명에 앞서 코드부터 풀이하자면\n",
    "#첫번째 코드\n",
    "일단 입력받은 값들을 array로 만들고 입력받은 수보다 1큰 0으로 채워진 counting_array를 만들었다. 그 후 누적합을 구해 새로운 output_array를 만들고 counting_array를 참조하여 output_array를 업데이트 해나가며 하나씩 출력하도록 했다\n",
    "#두번째 코드\n",
    "하나씩 값을 입력 받을때마다 그 인덱스에 따라 counting_array의 인덱스에 해당하는 값을 1씩 증가하도록 만들고 counting_array이 0 이 아니면 그 수만큼 출력하도록 했다\n",
    "\n",
    "###\n",
    "이문제를 풀면서 카운팅 정렬에 대해 배웠다\n",
    "첫번째 코드 처럼 작성시 \n",
    "데이터 개수가 n 일 때 input array의 빈도를 세는 계산 복잡성은 데이터 전체를 한 번씩 훑어야 하기 때문에 O(n)가 된다\n",
    "output array를 만들 때도 역순으로 모두 훑어야 하기 때문에 O(n)이다. \n",
    "counting array를 업데이트할 때 max(요솟값 중 최댓값)만큼 반복문이 될게 되므로 계산 복잡성 또한 O(max)가 된다.\n",
    "\n",
    "결론적으로 전체적인 계산 복잡성은 O(n+max)가 된다. max가 충분히 작을 경우 O(n)이 되겠지만, max가 커질 경우 max가 counting sort의 계산 복잡성을 지배하게 될 것이다\n",
    "\n",
    "###\n",
    "추가로 메모리초과에 관해 이것저것 찾아보던중 sys.stdin.readline() 이 input() 보다 메모리 작업 속도가 훨씬 빠르다고 한다"
   ]
  },
  {
   "cell_type": "code",
   "execution_count": null,
   "metadata": {},
   "outputs": [],
   "source": []
  }
 ],
 "metadata": {
  "kernelspec": {
   "display_name": "Python 3",
   "language": "python",
   "name": "python3"
  },
  "language_info": {
   "codemirror_mode": {
    "name": "ipython",
    "version": 3
   },
   "file_extension": ".py",
   "mimetype": "text/x-python",
   "name": "python",
   "nbconvert_exporter": "python",
   "pygments_lexer": "ipython3",
   "version": "3.8.5"
  }
 },
 "nbformat": 4,
 "nbformat_minor": 4
}
