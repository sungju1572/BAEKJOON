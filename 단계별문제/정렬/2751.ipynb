{
 "cells": [
  {
   "cell_type": "code",
   "execution_count": 3,
   "metadata": {},
   "outputs": [
    {
     "name": "stdout",
     "output_type": "stream",
     "text": [
      "5\n",
      "1\n",
      "4\n",
      "3\n",
      "5\n",
      "6\n",
      "1\n",
      "3\n",
      "4\n",
      "5\n",
      "6\n"
     ]
    }
   ],
   "source": [
    "n = int(input())\n",
    "\n",
    "num_list = []\n",
    "\n",
    "for i in range(n):\n",
    "    num_list.append(int(input()))\n",
    "    \n",
    "    \n",
    "num_list = sorted(num_list)\n",
    "for i in num_list:\n",
    "    print(i)"
   ]
  },
  {
   "cell_type": "code",
   "execution_count": 4,
   "metadata": {},
   "outputs": [],
   "source": [
    "#이문제를 풀때, python3으로 제출할시 시간초과 에러가 떴는데, pypy3로 제출했을때 성공으로 됐다\n",
    "#두개의 차이점을 찾아보니 인터프리터 언어와 컴파일 언어의 차이점이라 한다\n",
    "\n",
    "#인터프리터 언어는 코드를 한줄씩 읽어가며 실행한다. 따라서 수정상황이 발생하면, 소스 전체를 다시 컴파일 할 필요가 없고, \n",
    "#코드 수정 후 바로 실행이 가능하다\n",
    "#python의 구현체는 CPython이다. CPython은 인터프리터이면서 컴파일러이다.\n",
    "#다시 말해 ,python코드를 C언어로 바꾸는 것이 아니라, 컴파일 하여 bytecode로 바꾸고 그 다음 인터프리터(가장 머신)가 실행한다.\n",
    "\n",
    "#pypy3에서는 JIT컴파일이란것을 도입하여 CPython보다 빠르도록 만들었다\n",
    "#JIT컴파일은 프로그램을 실행하기 전에 검파일 하는대신, 프로그램을 실행하는 시점에서 필요한 부분들을 즉석으로 컴파일 하는 방식이다\n",
    "#인터프리트 하면서 자주 쓰이는 코드를 캐싱하기 때문에 인터 프리터의 느린 실행속도를 개선할 수 있다.\n",
    "\n",
    "\n",
    "#정리하면, PyPy3에서는 실행시, 자주 쓰이는 코드를 캐싱하는 기능이 있기 때문에 ,\n",
    "#간단한 코드상에서는 Python3가 메모리, 속도 측에서 우세할 수 있는 것이고,\n",
    "#복잡한 코드(반복)을 사용하는 경우에서는 PyPy3가 우세하기 때문에\n",
    "#코드 상황에 맞추어 두 구현체(PyPy3, Python3)를 적절하게 사용하도록 해야겠다"
   ]
  }
 ],
 "metadata": {
  "kernelspec": {
   "display_name": "Python 3",
   "language": "python",
   "name": "python3"
  },
  "language_info": {
   "codemirror_mode": {
    "name": "ipython",
    "version": 3
   },
   "file_extension": ".py",
   "mimetype": "text/x-python",
   "name": "python",
   "nbconvert_exporter": "python",
   "pygments_lexer": "ipython3",
   "version": "3.8.3"
  }
 },
 "nbformat": 4,
 "nbformat_minor": 4
}
