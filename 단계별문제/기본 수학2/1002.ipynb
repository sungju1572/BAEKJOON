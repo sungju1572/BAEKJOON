{
 "cells": [
  {
   "cell_type": "code",
   "execution_count": 28,
   "metadata": {},
   "outputs": [
    {
     "name": "stdout",
     "output_type": "stream",
     "text": [
      "1 \n",
      "0 0 5 0 0 5\n",
      "-1\n"
     ]
    }
   ],
   "source": [
    "T = int(input())\n",
    "\n",
    "for i in range(T):\n",
    "    x1,y1,r1,x2,y2,r2 = map(int, input().split())\n",
    "    distance = ((x1-x2)**2+(y1-y2)**2)**0.5\n",
    "    if distance > r1+r2:\n",
    "        print(0)\n",
    "    elif distance == r1+r2:\n",
    "        print(1)\n",
    "    elif abs(r1-r2) < distance < r1+r2:\n",
    "        print(2)\n",
    "    elif abs(r1-r2) == distance and r1!=r2:\n",
    "        print(1)\n",
    "    elif abs(r1-r2)> distance and r1!=r2:\n",
    "        print(0)\n",
    "    else:\n",
    "        print(-1)"
   ]
  },
  {
   "cell_type": "code",
   "execution_count": 29,
   "metadata": {},
   "outputs": [],
   "source": [
    "#두점의 거리와 두원의 반지름에 따른 접점 차이를 묻는 문제이다\n",
    "#여러 경우들을 생각하면서 쉽게 풀수있을줄 알았으나, 계속 실패하여 원인을 찾아보던중 절대값의 개념을 놓치고있는걸 확인했다\n",
    "\n",
    "\n",
    "#참고\n",
    "#r1 + r2 < d 이면 두 원은 서로의 외부에 위치한다.\n",
    "#r1 + r2 = d 이면 두 원은 외접한다.\n",
    "#|r1 - r2| < d < r1 + r2 이면 두 원은 서로 다른 두 점에서 만난다.\n",
    "#|r1 - r2| = d 이면 한 원이 다른 원에 내접한다.\n",
    "#|r1 - r2| > d, r1 ≠ r2 이면 한 원이 다른 원의 내부에 있다."
   ]
  },
  {
   "cell_type": "code",
   "execution_count": null,
   "metadata": {},
   "outputs": [],
   "source": []
  }
 ],
 "metadata": {
  "kernelspec": {
   "display_name": "Python 3",
   "language": "python",
   "name": "python3"
  },
  "language_info": {
   "codemirror_mode": {
    "name": "ipython",
    "version": 3
   },
   "file_extension": ".py",
   "mimetype": "text/x-python",
   "name": "python",
   "nbconvert_exporter": "python",
   "pygments_lexer": "ipython3",
   "version": "3.8.5"
  }
 },
 "nbformat": 4,
 "nbformat_minor": 4
}
