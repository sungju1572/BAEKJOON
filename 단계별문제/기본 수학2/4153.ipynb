{
 "cells": [
  {
   "cell_type": "code",
   "execution_count": 5,
   "metadata": {},
   "outputs": [
    {
     "name": "stdout",
     "output_type": "stream",
     "text": [
      "6 8 10\n",
      "right\n",
      "25 52 60\n",
      "wrong\n",
      "5 12 13\n",
      "right\n",
      "8 6 10\n",
      "right\n",
      "0 0 0\n"
     ]
    }
   ],
   "source": [
    "is_angle = True\n",
    "\n",
    "while is_angle:\n",
    "    a1,a2,a3 = map(int, input().split())\n",
    "    value = list([a1,a2,a3])\n",
    "    if a1==0 and a2==0 and a3==0:\n",
    "        is_angle = False\n",
    "    else:\n",
    "        max_value = max(value)\n",
    "        value.remove(max_value)\n",
    "        last_1 = value[0]\n",
    "        last_2 = value[1]\n",
    "        \n",
    "        if max_value**2 == last_1**2 + last_2**2:\n",
    "            print(\"right\")\n",
    "        else:\n",
    "            print(\"wrong\")\n",
    "\n"
   ]
  },
  {
   "cell_type": "code",
   "execution_count": null,
   "metadata": {},
   "outputs": [],
   "source": [
    "#세값을 입력받아서, 피타고라스정리를 사용하여 직각삼각형인지 확인 하였다"
   ]
  }
 ],
 "metadata": {
  "kernelspec": {
   "display_name": "Python 3",
   "language": "python",
   "name": "python3"
  },
  "language_info": {
   "codemirror_mode": {
    "name": "ipython",
    "version": 3
   },
   "file_extension": ".py",
   "mimetype": "text/x-python",
   "name": "python",
   "nbconvert_exporter": "python",
   "pygments_lexer": "ipython3",
   "version": "3.8.5"
  }
 },
 "nbformat": 4,
 "nbformat_minor": 4
}
