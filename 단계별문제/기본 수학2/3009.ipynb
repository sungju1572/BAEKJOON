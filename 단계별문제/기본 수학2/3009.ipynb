{
 "cells": [
  {
   "cell_type": "code",
   "execution_count": 4,
   "metadata": {},
   "outputs": [
    {
     "name": "stdout",
     "output_type": "stream",
     "text": [
      "5 5\n",
      "5 6\n",
      "6 5\n",
      "6 6\n"
     ]
    }
   ],
   "source": [
    "a1, a2 = map(int,input().split())\n",
    "b1, b2 = map(int,input().split())\n",
    "c1, c2 = map(int,input().split())\n",
    "\n",
    "d1 = 0\n",
    "d2 = 0\n",
    "\n",
    "if a1 == b1:\n",
    "    d1 = c1\n",
    "elif a1 == c1:\n",
    "    d1 = b1\n",
    "else:\n",
    "    d1 = a1\n",
    "    \n",
    "if a2 == b2:\n",
    "    d2 = c2\n",
    "elif a2 == c2:\n",
    "    d2 = b2\n",
    "else:\n",
    "    d2 = a2\n",
    "print(d1,d2)"
   ]
  },
  {
   "cell_type": "code",
   "execution_count": null,
   "metadata": {},
   "outputs": [],
   "source": [
    "#각 점의 x,y 축을 보고 나머지 한값을 유추하였다"
   ]
  }
 ],
 "metadata": {
  "kernelspec": {
   "display_name": "Python 3",
   "language": "python",
   "name": "python3"
  },
  "language_info": {
   "codemirror_mode": {
    "name": "ipython",
    "version": 3
   },
   "file_extension": ".py",
   "mimetype": "text/x-python",
   "name": "python",
   "nbconvert_exporter": "python",
   "pygments_lexer": "ipython3",
   "version": "3.8.5"
  }
 },
 "nbformat": 4,
 "nbformat_minor": 4
}
