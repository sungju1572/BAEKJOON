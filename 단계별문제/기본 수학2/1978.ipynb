{
 "cells": [
  {
   "cell_type": "code",
   "execution_count": 1,
   "metadata": {},
   "outputs": [
    {
     "name": "stdout",
     "output_type": "stream",
     "text": [
      "1\n",
      "25 35\n",
      "0\n"
     ]
    }
   ],
   "source": [
    "N = int(input())\n",
    "\n",
    "\n",
    "num_list = list(map(int, input().split()))\n",
    "count_num = 0\n",
    "for j in range(len(num_list)):\n",
    "    count = 0\n",
    "    for h in range(2 , num_list[j]+1): \n",
    "        if num_list[j]%h == 0:\n",
    "            count+=1\n",
    "        else: \n",
    "            count+=0\n",
    "    if count == 1:\n",
    "        count_num+=1\n",
    "    else:\n",
    "        count_num+=0\n",
    "print(count_num)"
   ]
  },
  {
   "cell_type": "code",
   "execution_count": null,
   "metadata": {},
   "outputs": [],
   "source": []
  }
 ],
 "metadata": {
  "kernelspec": {
   "display_name": "Python 3",
   "language": "python",
   "name": "python3"
  },
  "language_info": {
   "codemirror_mode": {
    "name": "ipython",
    "version": 3
   },
   "file_extension": ".py",
   "mimetype": "text/x-python",
   "name": "python",
   "nbconvert_exporter": "python",
   "pygments_lexer": "ipython3",
   "version": "3.8.5"
  }
 },
 "nbformat": 4,
 "nbformat_minor": 4
}
