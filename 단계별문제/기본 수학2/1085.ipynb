{
 "cells": [
  {
   "cell_type": "code",
   "execution_count": 7,
   "metadata": {},
   "outputs": [
    {
     "name": "stdout",
     "output_type": "stream",
     "text": [
      "5 5 10 10\n",
      "5\n"
     ]
    }
   ],
   "source": [
    "x,y,w,h = map(int, input().split())\n",
    "\n",
    "w_mid = w/2\n",
    "h_mid = h/2\n",
    "\n",
    "if x<=w_mid and y>=h_mid:\n",
    "    print(min(h-y,x))\n",
    "elif x<=w_mid and y<=h_mid:\n",
    "    print(min(x,y))\n",
    "elif x>=w_mid and y<=h_mid:\n",
    "    print(min(w-x, y))\n",
    "elif x>=w_mid and y>=h_mid:\n",
    "    print(min(w-x, h-y))"
   ]
  },
  {
   "cell_type": "code",
   "execution_count": 8,
   "metadata": {},
   "outputs": [],
   "source": [
    "#w,h 의 중앙값을 이용해서 직사각형을 4등분으로 나눈다\n",
    "#그후 x,y가 어느 지점에 들어가는지에 따라 최솟값을 찾는 과정을 거친다"
   ]
  }
 ],
 "metadata": {
  "kernelspec": {
   "display_name": "Python 3",
   "language": "python",
   "name": "python3"
  },
  "language_info": {
   "codemirror_mode": {
    "name": "ipython",
    "version": 3
   },
   "file_extension": ".py",
   "mimetype": "text/x-python",
   "name": "python",
   "nbconvert_exporter": "python",
   "pygments_lexer": "ipython3",
   "version": "3.8.5"
  }
 },
 "nbformat": 4,
 "nbformat_minor": 4
}
