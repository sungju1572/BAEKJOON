{
 "cells": [
  {
   "cell_type": "code",
   "execution_count": 15,
   "metadata": {},
   "outputs": [
    {
     "name": "stdout",
     "output_type": "stream",
     "text": [
      "0\n"
     ]
    }
   ],
   "source": [
    "iszero = True\n",
    "\n",
    "while iszero :\n",
    "    n = int(input())\n",
    "    count = 0\n",
    "    if n != 0 and n != 1:\n",
    "        n2 = n*2+1\n",
    "        n += 1\n",
    "        a = [True for i in range(n2)]\n",
    "\n",
    "        for i in range(2, int(n2**0.5)+1):\n",
    "            if a[i] == True:\n",
    "                for j in range(2*i, n2, i):\n",
    "                    a[j] = False\n",
    "\n",
    "        for i in range(n,n2):\n",
    "            if i>1 and a[i] == True:\n",
    "                count +=1\n",
    "        print(count)\n",
    "    \n",
    "    elif n == 1:\n",
    "        print(1)\n",
    "    \n",
    "    else:\n",
    "        break"
   ]
  },
  {
   "cell_type": "code",
   "execution_count": null,
   "metadata": {},
   "outputs": [],
   "source": [
    "#1929번 문제의 소수구하기 (에라토스테네츠의 체 사용)에 0을 입력받기 전까지의 조건을 추가하여 작성"
   ]
  }
 ],
 "metadata": {
  "kernelspec": {
   "display_name": "Python 3",
   "language": "python",
   "name": "python3"
  },
  "language_info": {
   "codemirror_mode": {
    "name": "ipython",
    "version": 3
   },
   "file_extension": ".py",
   "mimetype": "text/x-python",
   "name": "python",
   "nbconvert_exporter": "python",
   "pygments_lexer": "ipython3",
   "version": "3.8.5"
  }
 },
 "nbformat": 4,
 "nbformat_minor": 4
}
