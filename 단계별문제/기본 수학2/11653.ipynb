{
 "cells": [
  {
   "cell_type": "code",
   "execution_count": 40,
   "metadata": {},
   "outputs": [
    {
     "name": "stdout",
     "output_type": "stream",
     "text": [
      "72\n",
      "2\n",
      "2\n",
      "2\n",
      "3\n",
      "3\n"
     ]
    }
   ],
   "source": [
    "N = int(input())\n",
    "\n",
    "a=2\n",
    "while True :\n",
    "    if divmod(N,a)[1] == 0 :\n",
    "        if N == 1:\n",
    "            break\n",
    "        else:\n",
    "            N = N/a\n",
    "            print(a)\n",
    "            \n",
    "    else:\n",
    "        if N==1:\n",
    "            break\n",
    "        else:\n",
    "            a +=1\n",
    "        "
   ]
  },
  {
   "cell_type": "code",
   "execution_count": 32,
   "metadata": {},
   "outputs": [
    {
     "data": {
      "text/plain": [
       "True"
      ]
     },
     "execution_count": 32,
     "metadata": {},
     "output_type": "execute_result"
    }
   ],
   "source": [
    "#반복문 실행\n",
    "#만약 input으로 받은 N 을 a라는 2부터 시작하는 변수로 나누었을때 나머지가 0이면, N이 1이될때까지 계속 나누고 a를 출력한다\n",
    "# N이 나머지가 0이 아니면 (= a가 N의 소인수가 아니라면) a를 소인수가 될때까지 계속 1씩 증가시킨다"
   ]
  }
 ],
 "metadata": {
  "kernelspec": {
   "display_name": "Python 3",
   "language": "python",
   "name": "python3"
  },
  "language_info": {
   "codemirror_mode": {
    "name": "ipython",
    "version": 3
   },
   "file_extension": ".py",
   "mimetype": "text/x-python",
   "name": "python",
   "nbconvert_exporter": "python",
   "pygments_lexer": "ipython3",
   "version": "3.8.5"
  }
 },
 "nbformat": 4,
 "nbformat_minor": 4
}
