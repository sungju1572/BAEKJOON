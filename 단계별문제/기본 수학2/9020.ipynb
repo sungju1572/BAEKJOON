{
 "cells": [
  {
   "cell_type": "code",
   "execution_count": 42,
   "metadata": {},
   "outputs": [
    {
     "name": "stdout",
     "output_type": "stream",
     "text": [
      "3\n",
      "8\n",
      "3 5\n",
      "10\n",
      "5 5\n",
      "16\n",
      "5 11\n"
     ]
    }
   ],
   "source": [
    "#-----------------에라토스테네스의 체----------\n",
    "m = 1\n",
    "n = 10001\n",
    "\n",
    "suso_list = []\n",
    "\n",
    "a = [True for i in range(n)]\n",
    "\n",
    "for i in range(2, int(n**0.5)+1):\n",
    "    if a[i] == True:\n",
    "        for j in range(2*i, n, i):\n",
    "            a[j] = False\n",
    "\n",
    "for i in range(m,n):\n",
    "    if i>1 and a[i] == True:\n",
    "        suso_list.append(i)             #소수 리스트만들기\n",
    "\n",
    "        \n",
    "\n",
    "T = int(input())    #반복횟수\n",
    "\n",
    "for k in range(T):\n",
    "    k = int(input())\n",
    "    dic = {}\n",
    "\n",
    "    for i in suso_list:\n",
    "        if k-i in suso_list:            #k에서 i를 뺀값이 소수리스트에 있으면\n",
    "            if i <= k-i:                #첫번째 값이 두번째 값보다 작거나 같을 때\n",
    "                dic[(k-i)-i] = [i, k-i] #딕셔너리에 두값의 차를 키로하여 두 값 리스토로 저장\n",
    "                 \n",
    "            else:\n",
    "                dic[i-(k-i)] = [k-i, i] \n",
    "            \n",
    "    key_list = list(dic.keys())         #두값의 차이들만 모아서 차이 리스트 생성\n",
    "    print(dic[min(key_list)][0],dic[min(key_list)][1]) #두 소수의 차이가 가장 작은 것만 가져와서 하나씩 출력\n",
    "            "
   ]
  },
  {
   "cell_type": "code",
   "execution_count": 41,
   "metadata": {},
   "outputs": [],
   "source": [
    "#정답코드!!!\n",
    "#-----------------에라토스테네스의 체----------\n",
    "m = 1\n",
    "n = 10001\n",
    "\n",
    "suso_list = set() # Set으로 바꿔줍니다\n",
    "\n",
    "a = [True for i in range(n)]\n",
    "\n",
    "for i in range(2, int(n**0.5)+1):\n",
    "    if a[i] == True:\n",
    "        for j in range(2*i, n, i):\n",
    "            a[j] = False\n",
    "\n",
    "for i in range(m,n):\n",
    "    if i>1 and a[i] == True:\n",
    "        suso_list.add(i)             # suso_list의 자료구조가 set이므로 add 메소드를 사용합니다\n",
    "\n",
    "        \n",
    "\n",
    "T = int(input())    #반복횟수\n",
    "\n",
    "for k in range(T):\n",
    "    k = int(input())\n",
    "    dic = {}\n",
    "\n",
    "    for i in suso_list: \n",
    "        if k-i in suso_list:            # 그러면 이 줄을 실행하는데 걸리는 시간이 대폭 짧아집니다\n",
    "            if i <= k-i:                \n",
    "                dic[(k-i)-i] = [i, k-i] \n",
    "                 \n",
    "            else:\n",
    "                dic[i-(k-i)] = [k-i, i] \n",
    "            \n",
    "    key_list = list(dic.keys())    \n",
    "    print(dic[min(key_list)][0],dic[min(key_list)][1])"
   ]
  },
  {
   "cell_type": "code",
   "execution_count": null,
   "metadata": {},
   "outputs": [],
   "source": [
    "#정답이 맞는 것 같은데 계속 시간초과 오류가 떠서 백준 질문란에 질문을 하였다\n",
    "#이전에 내가 짠 코드와 질문 답변 코드의 차이는 list 자료구조를 사용했느냐, set 자료구조를 사용했느냐 차이였다\n",
    "#원래 짜던 코드가 시간 초과가 난 이유는 어떤 원소 i가 list 안에 존재하는지 확인하는데 걸리는 시간이 O(len(list)) 이기 때문이다\n",
    "#즉, 어떤 원소 i가 존재하는지 확인하는 시간이 O(1)이 걸리는 set 자료구조를 사용하면, 코드를 최대한 바꾸지 않고 문제를 해결할 수 있다\n",
    "#(set을 사용했기때문에 append대신 add 사용)\n",
    "\n",
    "\n",
    "#문제 풀이\n",
    "#먼저 에라토스테네스의 체를 사용하여 소수 리스트를 만들어 sosu_list에 저장한다\n",
    "#저장한 리스트에서 k에서 i를 뺀값이 소수리스트에 있으면 첫번째 값이 두번째 값보다 작거나 같을 때 딕셔너리에 두값의 차를 키로하여 두 값 리스토로 저장\n",
    "# 두 값의 차이들만 모아 차이 리스트를 만들고, 두 소수의 차이가 가장 작은것만 가져와서 하나씩 출력한다"
   ]
  }
 ],
 "metadata": {
  "kernelspec": {
   "display_name": "Python 3",
   "language": "python",
   "name": "python3"
  },
  "language_info": {
   "codemirror_mode": {
    "name": "ipython",
    "version": 3
   },
   "file_extension": ".py",
   "mimetype": "text/x-python",
   "name": "python",
   "nbconvert_exporter": "python",
   "pygments_lexer": "ipython3",
   "version": "3.8.5"
  }
 },
 "nbformat": 4,
 "nbformat_minor": 4
}
