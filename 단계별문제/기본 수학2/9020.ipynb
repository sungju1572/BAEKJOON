{
 "cells": [
  {
   "cell_type": "code",
   "execution_count": 42,
   "metadata": {},
   "outputs": [
    {
     "name": "stdout",
     "output_type": "stream",
     "text": [
      "3\n",
      "8\n",
      "3 5\n",
      "10\n",
      "5 5\n",
      "16\n",
      "5 11\n"
     ]
    }
   ],
   "source": [
    "#-----------------에라토스테네스의 체----------\n",
    "m = 1\n",
    "n = 10001\n",
    "\n",
    "suso_list = []\n",
    "\n",
    "a = [True for i in range(n)]\n",
    "\n",
    "for i in range(2, int(n**0.5)+1):\n",
    "    if a[i] == True:\n",
    "        for j in range(2*i, n, i):\n",
    "            a[j] = False\n",
    "\n",
    "for i in range(m,n):\n",
    "    if i>1 and a[i] == True:\n",
    "        suso_list.append(i)             #소수 리스트만들기\n",
    "\n",
    "        \n",
    "\n",
    "T = int(input())    #반복횟수\n",
    "\n",
    "for k in range(T):\n",
    "    k = int(input())\n",
    "    dic = {}\n",
    "\n",
    "    for i in suso_list:\n",
    "        if k-i in suso_list:            #k에서 i를 뺀값이 소수리스트에 있으면\n",
    "            if i <= k-i:                #첫번째 값이 두번째 값보다 작거나 같을 때\n",
    "                dic[(k-i)-i] = [i, k-i] #딕셔너리에 두값의 차를 키로하여 두 값 리스토로 저장\n",
    "                 \n",
    "            else:\n",
    "                dic[i-(k-i)] = [k-i, i] \n",
    "            \n",
    "    key_list = list(dic.keys())         #두값의 차이들만 모아서 차이 리스트 생성\n",
    "    print(dic[min(key_list)][0],dic[min(key_list)][1]) #두 소수의 차이가 가장 작은 것만 가져와서 하나씩 출력\n",
    "            "
   ]
  },
  {
   "cell_type": "code",
   "execution_count": 41,
   "metadata": {},
   "outputs": [],
   "source": [
    "#"
   ]
  },
  {
   "cell_type": "code",
   "execution_count": null,
   "metadata": {},
   "outputs": [],
   "source": []
  }
 ],
 "metadata": {
  "kernelspec": {
   "display_name": "Python 3",
   "language": "python",
   "name": "python3"
  },
  "language_info": {
   "codemirror_mode": {
    "name": "ipython",
    "version": 3
   },
   "file_extension": ".py",
   "mimetype": "text/x-python",
   "name": "python",
   "nbconvert_exporter": "python",
   "pygments_lexer": "ipython3",
   "version": "3.8.5"
  }
 },
 "nbformat": 4,
 "nbformat_minor": 4
}
