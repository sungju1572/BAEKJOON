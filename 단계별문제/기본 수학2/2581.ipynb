{
 "cells": [
  {
   "cell_type": "code",
   "execution_count": 27,
   "metadata": {},
   "outputs": [
    {
     "name": "stdout",
     "output_type": "stream",
     "text": [
      "2\n",
      "10\n",
      "17\n",
      "2\n"
     ]
    }
   ],
   "source": [
    "M = int(input())\n",
    "N = int(input())\n",
    "\n",
    "a =[]\n",
    "for i in range(M, N+1):\n",
    "    sosu = False\n",
    "    if i == 2 :\n",
    "        a.append(i)\n",
    "    for j in range(2, i):\n",
    "        if i % j == 0:\n",
    "            sosu = False\n",
    "            break\n",
    "        else:\n",
    "            sosu = True\n",
    "            continue\n",
    "    if sosu:\n",
    "        a.append(i)\n",
    "\n",
    "if len(a)> 0:\n",
    "    print(sum(a))\n",
    "    print(min(a))\n",
    "else :\n",
    "    print(-1)"
   ]
  },
  {
   "cell_type": "code",
   "execution_count": 28,
   "metadata": {},
   "outputs": [],
   "source": [
    "# M 에서 N까지 숫자 하나하나에  그아래숫자를 한번씩 나눴을때 0이되면(=소수가아니면) False값을 주고, 한번도 0이된적이 없다면(=소수라면)\n",
    "# True 값을 주어 소수인값만 리스트에 입력하였다"
   ]
  }
 ],
 "metadata": {
  "kernelspec": {
   "display_name": "Python 3",
   "language": "python",
   "name": "python3"
  },
  "language_info": {
   "codemirror_mode": {
    "name": "ipython",
    "version": 3
   },
   "file_extension": ".py",
   "mimetype": "text/x-python",
   "name": "python",
   "nbconvert_exporter": "python",
   "pygments_lexer": "ipython3",
   "version": "3.8.5"
  }
 },
 "nbformat": 4,
 "nbformat_minor": 4
}
