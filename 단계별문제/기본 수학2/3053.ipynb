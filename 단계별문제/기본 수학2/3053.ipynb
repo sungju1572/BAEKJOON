{
 "cells": [
  {
   "cell_type": "code",
   "execution_count": 6,
   "metadata": {},
   "outputs": [
    {
     "name": "stdout",
     "output_type": "stream",
     "text": [
      "100\n",
      "31415.926535897932\n",
      "20000\n"
     ]
    }
   ],
   "source": [
    "import math\n",
    "\n",
    "r = int(input())\n",
    "\n",
    "print(r**2*math.pi)\n",
    "print((r*2)*r)\n"
   ]
  },
  {
   "cell_type": "code",
   "execution_count": null,
   "metadata": {},
   "outputs": [],
   "source": [
    "#math 모듈을 통해 파이값을 가져왔고 그에 따라 유클리드 기하학의원과 택시 기하학에서의 원의 넓이를 출력하였다\n",
    "\n",
    "#당연하게 생각했던 유클리드 기하학에서 벗어나 택시 기하학이라는 개념을 새로 알게 되었고, 실생활에서 거리를 구할때 택시기하학으로 측정하는것이\n",
    "# 현실적이라는것도 알게되었다"
   ]
  }
 ],
 "metadata": {
  "kernelspec": {
   "display_name": "Python 3",
   "language": "python",
   "name": "python3"
  },
  "language_info": {
   "codemirror_mode": {
    "name": "ipython",
    "version": 3
   },
   "file_extension": ".py",
   "mimetype": "text/x-python",
   "name": "python",
   "nbconvert_exporter": "python",
   "pygments_lexer": "ipython3",
   "version": "3.8.5"
  }
 },
 "nbformat": 4,
 "nbformat_minor": 4
}
