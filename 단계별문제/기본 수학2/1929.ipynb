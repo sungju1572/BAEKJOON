{
 "cells": [
  {
   "cell_type": "code",
   "execution_count": 80,
   "metadata": {},
   "outputs": [
    {
     "name": "stdout",
     "output_type": "stream",
     "text": [
      "60 100\n",
      "61\n",
      "67\n",
      "71\n",
      "73\n",
      "79\n",
      "83\n",
      "89\n",
      "97\n"
     ]
    }
   ],
   "source": [
    "m,n = map(int, input().split())\n",
    "\n",
    "n += 1\n",
    "\n",
    "a = [True for i in range(n)]\n",
    "\n",
    "for i in range(2, int(n**0.5)+1):\n",
    "    if a[i] == True:\n",
    "        for j in range(2*i, n, i):\n",
    "            a[j] = False\n",
    "\n",
    "for i in range(m,n):\n",
    "    if i>1 and a[i] == True:\n",
    "        print(i)\n",
    "            "
   ]
  },
  {
   "cell_type": "code",
   "execution_count": 81,
   "metadata": {},
   "outputs": [],
   "source": [
    "#에라토스테네스의 체 사용 (검색)\n",
    "# for문 사용을 위해 n에 +1을 한후 n개의 True 가있는 리스트를 생성\n",
    "# n의 제곱근까지만 for문을 돌렸을때, 리스트가 True이면 i의 배수들(소수가아닌수)을 False로 변환\n",
    "#1이상이면서 True인(소수인)값들만 출력"
   ]
  },
  {
   "cell_type": "code",
   "execution_count": null,
   "metadata": {},
   "outputs": [],
   "source": []
  }
 ],
 "metadata": {
  "kernelspec": {
   "display_name": "Python 3",
   "language": "python",
   "name": "python3"
  },
  "language_info": {
   "codemirror_mode": {
    "name": "ipython",
    "version": 3
   },
   "file_extension": ".py",
   "mimetype": "text/x-python",
   "name": "python",
   "nbconvert_exporter": "python",
   "pygments_lexer": "ipython3",
   "version": "3.8.5"
  }
 },
 "nbformat": 4,
 "nbformat_minor": 4
}
