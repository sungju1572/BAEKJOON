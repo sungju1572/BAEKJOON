{
 "cells": [
  {
   "cell_type": "code",
   "execution_count": 14,
   "metadata": {},
   "outputs": [
    {
     "name": "stdout",
     "output_type": "stream",
     "text": [
      "0\n",
      "0\n"
     ]
    }
   ],
   "source": [
    "n = int(input())\n",
    "sum_list = []\n",
    "\n",
    "def solution(n):\n",
    "    N=[int(i) for i in str(n)]\n",
    "    return sum(N)+n\n",
    "\n",
    "\n",
    "\n",
    "for i in range(n):\n",
    "    if solution(i)== n :\n",
    "        sum_list.append(i)\n",
    "\n",
    "if len(sum_list)>0:\n",
    "    print(min(sum_list))\n",
    "else:\n",
    "    print(0)\n",
    "\n",
    "    "
   ]
  },
  {
   "cell_type": "markdown",
   "metadata": {},
   "source": [
    "문자열의 각 자릿수와 자기자신을 더하는 함수를 만들어서, 조건에 맞는 값중 가장 작은 값을 출력하였다"
   ]
  }
 ],
 "metadata": {
  "kernelspec": {
   "display_name": "Python 3",
   "language": "python",
   "name": "python3"
  },
  "language_info": {
   "codemirror_mode": {
    "name": "ipython",
    "version": 3
   },
   "file_extension": ".py",
   "mimetype": "text/x-python",
   "name": "python",
   "nbconvert_exporter": "python",
   "pygments_lexer": "ipython3",
   "version": "3.8.5"
  }
 },
 "nbformat": 4,
 "nbformat_minor": 4
}
