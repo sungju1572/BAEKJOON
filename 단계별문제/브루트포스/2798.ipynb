{
 "cells": [
  {
   "cell_type": "code",
   "execution_count": 20,
   "metadata": {},
   "outputs": [
    {
     "name": "stdout",
     "output_type": "stream",
     "text": [
      "10 500\n",
      "93 181 245 214 315 36 185 138 216 295\n",
      "497\n"
     ]
    }
   ],
   "source": [
    "from itertools import combinations\n",
    "\n",
    "n, m = map(int,input().split())\n",
    "\n",
    "num_list = list(map(int, input().split()))\n",
    "\n",
    "array_list = combinations(num_list,3)\n",
    "\n",
    "sum_list = []\n",
    "\n",
    "for i in array_list:\n",
    "    if sum(i) <= m:\n",
    "        sum_list.append(sum(i))\n",
    "\n",
    "print(max(sum_list))\n",
    "\n",
    "    "
   ]
  },
  {
   "cell_type": "markdown",
   "metadata": {},
   "source": [
    "브루트포스 알고리즘은 조합 가능한 모든 문자열을 하나씩 대입해 보는 방법이다\n",
    "오래걸리는 데다 자원이 엄청나게 들어 무식(?)해 보이지만, 항상 100%의 정확도를 유지한다는 장점이있다\n",
    "\n",
    "이를 풀기 위해서 itertools 모듈의 combinations 함수를 처음 써보았다\n",
    "이 함수는 리스트내 모든 조합가능한 리스트를 반환해준다\n",
    "\n",
    "3개씩 뽑았을때 조합가능한 모든 리스트들의 합을 구해서, 그값이 입력받은 m보다 작을때, 최댓값을 출력하도록 했다\n"
   ]
  }
 ],
 "metadata": {
  "kernelspec": {
   "display_name": "Python 3",
   "language": "python",
   "name": "python3"
  },
  "language_info": {
   "codemirror_mode": {
    "name": "ipython",
    "version": 3
   },
   "file_extension": ".py",
   "mimetype": "text/x-python",
   "name": "python",
   "nbconvert_exporter": "python",
   "pygments_lexer": "ipython3",
   "version": "3.8.5"
  }
 },
 "nbformat": 4,
 "nbformat_minor": 4
}
