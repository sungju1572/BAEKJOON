{
 "cells": [
  {
   "cell_type": "code",
   "execution_count": 25,
   "metadata": {},
   "outputs": [
    {
     "name": "stdout",
     "output_type": "stream",
     "text": [
      "10 13\n",
      "BBBBBBBBWBWBW\n",
      "BBBBBBBBBWBWB\n",
      "BBBBBBBBWBWBW\n",
      "BBBBBBBBBWBWB\n",
      "BBBBBBBBWBWBW\n",
      "BBBBBBBBBWBWB\n",
      "BBBBBBBBWBWBW\n",
      "BBBBBBBBBWBWB\n",
      "WWWWWWWWWWBWB\n",
      "WWWWWWWWWWBWB\n",
      "12\n"
     ]
    }
   ],
   "source": [
    "m, n = map(int, input().split())\n",
    "\n",
    "board = []\n",
    "\n",
    "for i in range(m):\n",
    "    board.append(input())\n",
    "\n",
    "    \n",
    "def update_board(x,y):\n",
    "    new_board = [board[i][x:x+8] for i in range(y, y+8)]\n",
    "    return new_board\n",
    "\n",
    "wrong_count=[]\n",
    "\n",
    "for i in range(m-7):\n",
    "    for j in range(n-7):\n",
    "        w_count, b_count = 0, 0\n",
    "        for k in range(8):\n",
    "            for h in range(8):\n",
    "                if (k+h)%2==0:\n",
    "                    if update_board(j,i)[k][h]!=\"W\":\n",
    "                        w_count+=1\n",
    "                    elif update_board(j,i)[k][h]!=\"B\":\n",
    "                        b_count+=1\n",
    "                else:\n",
    "                    if update_board(j,i)[k][h]!=\"B\":\n",
    "                        w_count+=1\n",
    "                    elif update_board(j,i)[k][h]!=\"W\":\n",
    "                        b_count+=1\n",
    "        wrong_count.append(w_count)\n",
    "        wrong_count.append(b_count)\n",
    "\n",
    "print(min(wrong_count))"
   ]
  },
  {
   "cell_type": "code",
   "execution_count": null,
   "metadata": {},
   "outputs": [],
   "source": [
    "#너무 많이 헤맸던 문제..\n",
    "#우선 이 문제가 브루트 포스문제라는 점을 생각했을때, 체스판을 8*8배열로 모두 검사해가면서 틀린횟수를 카운트 하면 되겠다라고 생각했다\n",
    "#그래서 먼저 입력받은 문자열에서 8*8의 체스판만 가져오도록 함수를 만들었다\n",
    "#이 함수를 통해 틀린횟수를 판별할 생각이였는데 내 생각으로는 이전값과 다르면 count+=1 해서 틀린값이 가장 많이 나온부분을 가져오려했지만\n",
    "#몇시간동안 답이 안나와 구글링하여 체크해보니, 이런 메트릭스 형태의 문제들은 인덱스 값(행+열)을 2로 나눴을때 0,1이 반복된다는 유용한 사실을 \n",
    "#알게 되었고, 그대로 코드에 적용하였다\n",
    "\n",
    "#코드에 대해 설명하자면\n",
    "#먼저 입력받은 문자열에서 8*8부분만 가져오는 함수를 만들었다 그후 8개 행,열에대해 검사할 때 입력받은 값을 초과하지 않기위해 m과n에 -7을 하여\n",
    "# i와 j의 범위를 조정하였다. \n",
    "#다음으로 w_count(W가잘못되었을때 카운트), b_count(B가잘못되었을때 카운트) 라는 카운트 변수를 생성하고,\n",
    "#앞에서 설명한 행과 열을 더한값의 나머지가 0일떄와 1일때로 나눠 잘못된값을 찾아 카운트 하였다"
   ]
  }
 ],
 "metadata": {
  "kernelspec": {
   "display_name": "Python 3",
   "language": "python",
   "name": "python3"
  },
  "language_info": {
   "codemirror_mode": {
    "name": "ipython",
    "version": 3
   },
   "file_extension": ".py",
   "mimetype": "text/x-python",
   "name": "python",
   "nbconvert_exporter": "python",
   "pygments_lexer": "ipython3",
   "version": "3.8.5"
  }
 },
 "nbformat": 4,
 "nbformat_minor": 4
}
