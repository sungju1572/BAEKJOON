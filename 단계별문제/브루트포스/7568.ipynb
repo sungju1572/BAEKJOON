{
 "cells": [
  {
   "cell_type": "code",
   "execution_count": 45,
   "metadata": {},
   "outputs": [
    {
     "name": "stdout",
     "output_type": "stream",
     "text": [
      "5\n",
      "55 185\n",
      "58 183\n",
      "88 186\n",
      "60 175\n",
      "46 155\n",
      "2 2 1 2 5 "
     ]
    }
   ],
   "source": [
    "n = int(input())\n",
    "\n",
    "x_list = []\n",
    "y_list = []\n",
    "\n",
    "\n",
    "count_list = []\n",
    "rank_list = []\n",
    "\n",
    "for i in range(n):\n",
    "    x,y = map(int, input().split())\n",
    "    x_list.append(x)\n",
    "    y_list.append(y)\n",
    " \n",
    "for i in range(n):\n",
    "    count = 1\n",
    "    for j in range(n):\n",
    "        if x_list[i] < x_list[j] and y_list[i] < y_list[j]:\n",
    "            count+=1\n",
    "    count_list.append(count)\n",
    "\n",
    "\n",
    "for i in count_list:\n",
    "    print(i, end=\" \")\n",
    "            \n",
    "            \n",
    "    "
   ]
  },
  {
   "cell_type": "code",
   "execution_count": 46,
   "metadata": {},
   "outputs": [],
   "source": [
    "#x,y 리스트를 만들어 입력받은 x,y값을 저장하고 자기보다 큰 값이 있으면 count 변수에 1을 추가시켜 자신이 몇등인지 나오게 하였다"
   ]
  },
  {
   "cell_type": "code",
   "execution_count": null,
   "metadata": {},
   "outputs": [],
   "source": []
  }
 ],
 "metadata": {
  "kernelspec": {
   "display_name": "Python 3",
   "language": "python",
   "name": "python3"
  },
  "language_info": {
   "codemirror_mode": {
    "name": "ipython",
    "version": 3
   },
   "file_extension": ".py",
   "mimetype": "text/x-python",
   "name": "python",
   "nbconvert_exporter": "python",
   "pygments_lexer": "ipython3",
   "version": "3.8.5"
  }
 },
 "nbformat": 4,
 "nbformat_minor": 4
}
