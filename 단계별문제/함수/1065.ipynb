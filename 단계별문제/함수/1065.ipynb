{
 "cells": [
  {
   "cell_type": "code",
   "execution_count": 26,
   "metadata": {},
   "outputs": [
    {
     "name": "stdout",
     "output_type": "stream",
     "text": [
      "1000\n",
      "144\n"
     ]
    }
   ],
   "source": [
    "N = int(input())\n",
    "a=0\n",
    "for i in range(N):\n",
    "    i=i+1\n",
    "    \n",
    "    if len(str(i)) == 1 or len(str(i))==2:\n",
    "        a+=1\n",
    "        \n",
    "    elif len(str(i))==3:\n",
    "        if int(str(i)[1])-int(str(i)[0]) == int(str(i)[2])-int(str(i)[1]):\n",
    "            a+=1\n",
    "            \n",
    "print(a)"
   ]
  }
 ],
 "metadata": {
  "kernelspec": {
   "display_name": "Python 3",
   "language": "python",
   "name": "python3"
  },
  "language_info": {
   "codemirror_mode": {
    "name": "ipython",
    "version": 3
   },
   "file_extension": ".py",
   "mimetype": "text/x-python",
   "name": "python",
   "nbconvert_exporter": "python",
   "pygments_lexer": "ipython3",
   "version": "3.8.3"
  }
 },
 "nbformat": 4,
 "nbformat_minor": 4
}
