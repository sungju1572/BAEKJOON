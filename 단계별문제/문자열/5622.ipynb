{
 "cells": [
  {
   "cell_type": "code",
   "execution_count": 22,
   "metadata": {},
   "outputs": [
    {
     "name": "stdout",
     "output_type": "stream",
     "text": [
      "UNUCIC\n",
      "36\n"
     ]
    }
   ],
   "source": [
    "a = input()\n",
    "\n",
    "import string\n",
    "\n",
    "b = string.ascii_uppercase\n",
    "c=[]\n",
    "for i in b:\n",
    "    c.append(i)\n",
    "\n",
    "count=0\n",
    "for i in a:\n",
    "    if i in c[:3]:\n",
    "        count+=3\n",
    "    elif i in c[3:6]:\n",
    "        count+=4\n",
    "    elif i in c[6:9]:\n",
    "        count+=5\n",
    "    elif i in c[9:12]:\n",
    "        count+=6\n",
    "    elif i in c[12:15]:\n",
    "        count+=7\n",
    "    elif i in c[15:19]:\n",
    "        count+=8\n",
    "    elif i in c[19:22]:\n",
    "        count+=9\n",
    "    elif i in c[22:27]:\n",
    "        count+=10\n",
    "    \n",
    "print(count)"
   ]
  }
 ],
 "metadata": {
  "kernelspec": {
   "display_name": "Python 3",
   "language": "python",
   "name": "python3"
  },
  "language_info": {
   "codemirror_mode": {
    "name": "ipython",
    "version": 3
   },
   "file_extension": ".py",
   "mimetype": "text/x-python",
   "name": "python",
   "nbconvert_exporter": "python",
   "pygments_lexer": "ipython3",
   "version": "3.8.3"
  }
 },
 "nbformat": 4,
 "nbformat_minor": 4
}
