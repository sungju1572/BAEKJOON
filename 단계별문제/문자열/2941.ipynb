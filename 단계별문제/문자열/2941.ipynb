{
 "cells": [
  {
   "cell_type": "code",
   "execution_count": 13,
   "metadata": {},
   "outputs": [
    {
     "name": "stdout",
     "output_type": "stream",
     "text": [
      "c=c=\n",
      "2\n"
     ]
    }
   ],
   "source": [
    "import string \n",
    "a = input()\n",
    "\n",
    "b = [\"c=\", \"c-\", \"dz=\", \"d-\", \"lj\", \"nj\", \"s=\", \"z=\"]\n",
    "\n",
    "\n",
    "lower = string.ascii_lowercase\n",
    "\n",
    "count = 0\n",
    "for i in b:\n",
    "    if a.count(i)>0:\n",
    "        count+= a.count(i)\n",
    "        a = a.replace(i,\" \")\n",
    "          \n",
    "for i in lower:\n",
    "    count+= a.count(i)\n",
    "    \n",
    "print(count)\n"
   ]
  }
 ],
 "metadata": {
  "kernelspec": {
   "display_name": "Python 3",
   "language": "python",
   "name": "python3"
  },
  "language_info": {
   "codemirror_mode": {
    "name": "ipython",
    "version": 3
   },
   "file_extension": ".py",
   "mimetype": "text/x-python",
   "name": "python",
   "nbconvert_exporter": "python",
   "pygments_lexer": "ipython3",
   "version": "3.8.3"
  }
 },
 "nbformat": 4,
 "nbformat_minor": 4
}
