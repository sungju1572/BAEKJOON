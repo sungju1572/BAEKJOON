{
 "cells": [
  {
   "cell_type": "code",
   "execution_count": 12,
   "metadata": {
    "scrolled": true
   },
   "outputs": [
    {
     "name": "stdout",
     "output_type": "stream",
     "text": [
      "aaabbcc\n",
      "A\n"
     ]
    }
   ],
   "source": [
    "N = input()\n",
    "N = N.upper()\n",
    "\n",
    "n = \"\".join(dict.fromkeys(N))\n",
    "\n",
    "a=[]\n",
    "b=[]\n",
    "for i in n:\n",
    "    a.append(N.count(i))\n",
    "    \n",
    "for i in a:\n",
    "    if i == max(a):\n",
    "        b.append(i)\n",
    "    \n",
    "if len(b) != len(set(b)):\n",
    "    print(\"?\")\n",
    "else:\n",
    "    c = a.index(max(a))\n",
    "    print(n[c])\n",
    "    \n",
    "    \n"
   ]
  }
 ],
 "metadata": {
  "kernelspec": {
   "display_name": "Python 3",
   "language": "python",
   "name": "python3"
  },
  "language_info": {
   "codemirror_mode": {
    "name": "ipython",
    "version": 3
   },
   "file_extension": ".py",
   "mimetype": "text/x-python",
   "name": "python",
   "nbconvert_exporter": "python",
   "pygments_lexer": "ipython3",
   "version": "3.8.3"
  }
 },
 "nbformat": 4,
 "nbformat_minor": 4
}
