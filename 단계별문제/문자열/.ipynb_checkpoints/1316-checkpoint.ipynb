{
 "cells": [
  {
   "cell_type": "code",
   "execution_count": 3,
   "metadata": {},
   "outputs": [
    {
     "name": "stdout",
     "output_type": "stream",
     "text": [
      "2\n",
      "jaafdaa\n",
      "haap\n",
      "1\n"
     ]
    }
   ],
   "source": [
    "N = int(input())\n",
    "\n",
    "count = 0\n",
    "\n",
    "for i in range(N):\n",
    "    a = input()\n",
    "    for j in range(len(a)):\n",
    "        if j!=len(a)-1:\n",
    "            if a[j]==a[j+1]:\n",
    "                pass\n",
    "            elif a[j] in a[j+1:]:\n",
    "                break\n",
    "        else:\n",
    "            count+=1\n",
    "print(count)\n",
    "            \n",
    "                \n",
    "            \n",
    "            \n",
    "        \n",
    "        "
   ]
  },
  {
   "cell_type": "code",
   "execution_count": null,
   "metadata": {},
   "outputs": [],
   "source": []
  }
 ],
 "metadata": {
  "kernelspec": {
   "display_name": "Python 3",
   "language": "python",
   "name": "python3"
  },
  "language_info": {
   "codemirror_mode": {
    "name": "ipython",
    "version": 3
   },
   "file_extension": ".py",
   "mimetype": "text/x-python",
   "name": "python",
   "nbconvert_exporter": "python",
   "pygments_lexer": "ipython3",
   "version": "3.8.3"
  }
 },
 "nbformat": 4,
 "nbformat_minor": 4
}
