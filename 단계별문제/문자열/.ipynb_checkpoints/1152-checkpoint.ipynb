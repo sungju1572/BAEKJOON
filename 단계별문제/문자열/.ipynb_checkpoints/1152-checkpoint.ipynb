{
 "cells": [
  {
   "cell_type": "code",
   "execution_count": 37,
   "metadata": {},
   "outputs": [
    {
     "name": "stdout",
     "output_type": "stream",
     "text": [
      "Teullinika Teullyeotzi \n",
      "2\n"
     ]
    }
   ],
   "source": [
    "N = input()\n",
    "\n",
    "if N == \" \":\n",
    "    print(0)\n",
    "elif N[0] == \" \" or N[-1] ==\" \" :\n",
    "    N = N[0].replace(\" \",\"\")+N[1:-1]+N[-1].replace(\" \",\"\")\n",
    "    print(N.count(\" \")+1)\n",
    "else:\n",
    "    print(N.count(\" \")+1)"
   ]
  }
 ],
 "metadata": {
  "kernelspec": {
   "display_name": "Python 3",
   "language": "python",
   "name": "python3"
  },
  "language_info": {
   "codemirror_mode": {
    "name": "ipython",
    "version": 3
   },
   "file_extension": ".py",
   "mimetype": "text/x-python",
   "name": "python",
   "nbconvert_exporter": "python",
   "pygments_lexer": "ipython3",
   "version": "3.8.3"
  }
 },
 "nbformat": 4,
 "nbformat_minor": 4
}
